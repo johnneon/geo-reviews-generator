{
 "cells": [
  {
   "cell_type": "code",
   "execution_count": 10,
   "metadata": {},
   "outputs": [],
   "source": [
    "from transformers import AutoTokenizer, GPT2LMHeadModel, Trainer, TrainingArguments, DataCollatorForLanguageModeling, AutoModelForCausalLM\n",
    "import torch\n",
    "import re"
   ]
  },
  {
   "cell_type": "code",
   "execution_count": 3,
   "metadata": {},
   "outputs": [],
   "source": [
    "# Загрузка токенизатора\n",
    "tokenizer = AutoTokenizer.from_pretrained(\"./saved_model_ver2\")\n",
    "\n",
    "# Загрузка модели\n",
    "model = AutoModelForCausalLM.from_pretrained(\n",
    "    pretrained_model_name_or_path=\"./saved_model_ver2\",\n",
    "    torch_dtype=torch.float16 if torch.cuda.is_available() else torch.float32\n",
    ")\n",
    "# Перемещение модели на GPU или CPU\n",
    "device = \"cuda\" if torch.cuda.is_available() else \"cpu\"\n",
    "model = model.to(device)"
   ]
  },
  {
   "cell_type": "code",
   "execution_count": 62,
   "metadata": {},
   "outputs": [],
   "source": [
    "def inference(category, rating):\n",
    "    # Формирование входного текста\n",
    "    input_text = f\"Category: {category}.\\nRating: {rating}.\\nReview:\"\n",
    "    # Токенизация текста\n",
    "    inputs = tokenizer(input_text, return_tensors=\"pt\").to(device)\n",
    "    output = model.generate(\n",
    "        **inputs,\n",
    "        max_length=60,\n",
    "        temperature=0.9,\n",
    "        no_repeat_ngram_size=2,\n",
    "        do_sample=True,\n",
    "        num_return_sequences=3,\n",
    "        eos_token_id=tokenizer.eos_token_id,  # Установка токена конца последовательности\n",
    "        pad_token_id=tokenizer.eos_token_id,  # Использовать тот же токен для паддинга\n",
    "        early_stopping=False,  # Раннее завершение на токене конца\n",
    "        top_k=30,         # Уменьшаем количество рассматриваемых верхних k слов\n",
    "        top_p=0.8,        # Уменьшаем \"ядерность\" распределения\n",
    "    )\n",
    "    # Декодирование всех сгенерированных текстов\n",
    "    for i, sequence in enumerate(output):\n",
    "        generated_text = tokenizer.decode(sequence, skip_special_tokens=True)\n",
    "        print(f\"Generated text {i + 1}:\")\n",
    "        print(generated_text)\n",
    "        print()\n",
    "        # raw_text = re.findall(r'(?<=Review:  ).*', generated_text)[0]\n",
    "        # print(f'Raw text - {raw_text}\\n')"
   ]
  },
  {
   "cell_type": "markdown",
   "metadata": {},
   "source": [
    "# Примеры инференса"
   ]
  },
  {
   "cell_type": "code",
   "execution_count": 80,
   "metadata": {},
   "outputs": [
    {
     "name": "stdout",
     "output_type": "stream",
     "text": [
      "Generated text 1:\n",
      "Category: Магазин детских игрушек.\n",
      "Rating: 5.\n",
      "Review: большой выбор игрушек и игрушек для деток с рождения и до 3 лет игрушки можно найти в нашем магазине очень большой ассортимент игрушек разных возрастов и размеров и по цене и на любой возраст  в частности есть\n",
      "\n",
      "Generated text 2:\n",
      "Category: Магазин детских игрушек.\n",
      "Rating: 5.\n",
      "Review: очень уютный магазин с большой территорией и с большим выбором товаров и игрушек и аксессуаров для детей и взрослых большой выбор товара для мальчиков и девочек из разных уголков нашей страны а также детская мебель для самых маленьких\n",
      "\n",
      "Generated text 3:\n",
      "Category: Магазин детских игрушек.\n",
      "Rating: 5.\n",
      "Review: магазин с большим ассортиментом товаров для детей и родителей  из минусов  большая очередь в кассах и очень часто приходится стоять в очереди и ждать пока освободится касса с товаром в основном в это время\n",
      "\n"
     ]
    }
   ],
   "source": [
    "inference('Магазин детских игрушек', 5)"
   ]
  },
  {
   "cell_type": "code",
   "execution_count": 65,
   "metadata": {},
   "outputs": [
    {
     "name": "stdout",
     "output_type": "stream",
     "text": [
      "Generated text 1:\n",
      "Category: Магазин автозапчастей.\n",
      "Rating: 4.\n",
      "Review: неплохой магазин автотоваров  большой ассортимент товара есть на любой вкус и кошелк есть все необходимое есть и запчасти и автоаксессуары для автотюнинг автомобилей и автомобилей с пробегом есть\n",
      "\n",
      "Generated text 2:\n",
      "Category: Магазин автозапчастей.\n",
      "Rating: 4.\n",
      "Review: все хорошо если есть свободные места то можно было бы еще и в этот раз сделать побольше  в этом году все отлично  я купила магнитолу и магнитола для телефона  с магнитолой\n",
      "\n",
      "Generated text 3:\n",
      "Category: Магазин автозапчастей.\n",
      "Rating: 4.\n",
      "Review: в целом нормально но в последнее время цены на сайте стали заметно выше чем в других магазинах в городе с ценами на некоторые позиции я бы не советовал обращаться в этот магазин по данному адресу в итоге мне\n",
      "\n"
     ]
    }
   ],
   "source": [
    "inference('Магазин автозапчастей', 4)"
   ]
  },
  {
   "cell_type": "code",
   "execution_count": 71,
   "metadata": {},
   "outputs": [
    {
     "name": "stdout",
     "output_type": "stream",
     "text": [
      "Generated text 1:\n",
      "Category: Поликлиника.\n",
      "Rating: 3.\n",
      "Review: поликлиника работает с 2000 года по настоящее время но сейчас в поликлинике постоянно чтото не работает в связи с ухудшением качества оказания медицинской помощи и отсутствием новых врачей и не знаю как в других клиниках но\n",
      "\n",
      "Generated text 2:\n",
      "Category: Поликлиника.\n",
      "Rating: 3.\n",
      "Review: все хорошо но есть один маленький нюанс в том что с поликлиникой не работают только терапевты и педиатры и терапевт у них очередь в регистратуру и не все врачи приходят на прием к терапев\n",
      "\n",
      "Generated text 3:\n",
      "Category: Поликлиника.\n",
      "Rating: 3.\n",
      "Review: все хорошо но есть одно но очень грустное  это  когда я приехала к врачу в регистратуру на дом по записи  мне сказали что у меня есть запись  я не смогла записаться на прием \n",
      "\n"
     ]
    }
   ],
   "source": [
    "inference('Поликлиника', 3)"
   ]
  },
  {
   "cell_type": "code",
   "execution_count": 81,
   "metadata": {},
   "outputs": [
    {
     "name": "stdout",
     "output_type": "stream",
     "text": [
      "Generated text 1:\n",
      "Category: Кафе.\n",
      "Rating: 2.\n",
      "Review: очень долгое обслуживание и очень долго обслуживание заказывал суши на кассе но так и не дождался заказ принесли в 1530 минут и в итоге на вопрос о готовности заказа я ответил что готов уже был в 2030 так\n",
      "\n",
      "Generated text 2:\n",
      "Category: Кафе.\n",
      "Rating: 2.\n",
      "Review: в целом заведение хорошее но есть один нюанс очень долго готовят еду не всегда получается есть очень маленькие порции поэтому если в меню есть чтото необходимое то лучше подождать пока вы подойдте к выбору в итоге вы увидите\n",
      "\n",
      "Generated text 3:\n",
      "Category: Кафе.\n",
      "Rating: 2.\n",
      "Review: очень понравился этот ресторан на улице у метро пр-т мира  есть и минусы но в целом еда очень вкусная в кафе  не вкусное меню с сыром и колбасой и без  это не еда а\n",
      "\n"
     ]
    }
   ],
   "source": [
    "inference('Кафе', 2)"
   ]
  },
  {
   "cell_type": "code",
   "execution_count": 79,
   "metadata": {},
   "outputs": [
    {
     "name": "stdout",
     "output_type": "stream",
     "text": [
      "Generated text 1:\n",
      "Category: Гостиница.\n",
      "Rating: 1.\n",
      "Review: очень разочаровал отель в первую очередь тем что он находится в самом центре города и поэтому мы жили на 1 этаже в отеле с видом на город а точнее на набережную и с одной стороны набережной в целом впечатление от\n",
      "\n",
      "Generated text 2:\n",
      "Category: Гостиница.\n",
      "Rating: 1.\n",
      "Review: отличный отель с шикарным видом на море и море но есть одно но в номере не очень уютно  туалет не работал  с этим все в порядке  персонал  доброжелательный не вежливый в номерах есть чайник\n",
      "\n",
      "Generated text 3:\n",
      "Category: Гостиница.\n",
      "Rating: 1.\n",
      "Review: отличный отель в центре города рядом с набережной рядом со станцией метро  в номере на первом этаже есть все необходимое для комфортного проживания в гостинице есть холодильник телевизор холодильник посуда чай кофе набор посуды набор полотенец шампунь\n",
      "\n"
     ]
    }
   ],
   "source": [
    "inference('Гостиница', 1)"
   ]
  }
 ],
 "metadata": {
  "kernelspec": {
   "display_name": ".venv",
   "language": "python",
   "name": "python3"
  },
  "language_info": {
   "codemirror_mode": {
    "name": "ipython",
    "version": 3
   },
   "file_extension": ".py",
   "mimetype": "text/x-python",
   "name": "python",
   "nbconvert_exporter": "python",
   "pygments_lexer": "ipython3",
   "version": "3.12.6"
  }
 },
 "nbformat": 4,
 "nbformat_minor": 2
}
