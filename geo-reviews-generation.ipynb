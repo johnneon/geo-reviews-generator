{
 "cells": [
  {
   "cell_type": "markdown",
   "source": [
    "# Генератор отзывов"
   ],
   "metadata": {
    "collapsed": false
   },
   "id": "96ba1f419abf69b3"
  },
  {
   "cell_type": "markdown",
   "source": [
    "## EDA"
   ],
   "metadata": {
    "collapsed": false
   },
   "id": "6a304dab1ae3cbd4"
  },
  {
   "cell_type": "markdown",
   "source": [
    "## Предобработка"
   ],
   "metadata": {
    "collapsed": false
   },
   "id": "dcb174261ac6c651"
  },
  {
   "cell_type": "markdown",
   "source": [
    "## Обучение"
   ],
   "metadata": {
    "collapsed": false
   },
   "id": "4a4925e7dc8e5ae0"
  },
  {
   "cell_type": "markdown",
   "source": [
    "## Совершенствование"
   ],
   "metadata": {
    "collapsed": false
   },
   "id": "3a403e7b181bbcd1"
  },
  {
   "cell_type": "markdown",
   "source": [
    "## Анализ"
   ],
   "metadata": {
    "collapsed": false
   },
   "id": "207487ae831771c1"
  },
  {
   "cell_type": "markdown",
   "source": [
    "## Итог"
   ],
   "metadata": {
    "collapsed": false
   },
   "id": "8dc34254b1b471ce"
  },
  {
   "cell_type": "code",
   "execution_count": null,
   "id": "initial_id",
   "metadata": {
    "collapsed": true
   },
   "outputs": [],
   "source": [
    "print('try me my mad')"
   ]
  }
 ],
 "metadata": {
  "kernelspec": {
   "display_name": "Python 3",
   "language": "python",
   "name": "python3"
  },
  "language_info": {
   "codemirror_mode": {
    "name": "ipython",
    "version": 2
   },
   "file_extension": ".py",
   "mimetype": "text/x-python",
   "name": "python",
   "nbconvert_exporter": "python",
   "pygments_lexer": "ipython2",
   "version": "2.7.6"
  }
 },
 "nbformat": 4,
 "nbformat_minor": 5
}
